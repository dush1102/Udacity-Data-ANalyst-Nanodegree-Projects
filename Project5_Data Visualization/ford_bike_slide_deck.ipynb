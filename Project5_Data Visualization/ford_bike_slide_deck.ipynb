{
 "cells": [
  {
   "cell_type": "markdown",
   "metadata": {
    "slideshow": {
     "slide_type": "slide"
    }
   },
   "source": [
    "## Customers' behavior analysis of [Ford GoBike System](https://www.fordgobike.com/)\n",
    "<span>By : Dushyant Bhatia</span>\n",
    "<br>July 2020"
   ]
  },
  {
   "cell_type": "markdown",
   "metadata": {
    "slideshow": {
     "slide_type": "slide"
    }
   },
   "source": [
    "## Overview\n",
    "\n",
    "* This project is about the Bay area's bike renting company, in which we are trying to analyze the dataset using exploratory and explanatory visualizations.\n",
    "\n",
    "## Dataset Overview\n",
    "\n",
    "* The data consist of approximately 24M bike rides datapoints from 2018-2019. Few major attributes used for the analysis are: member_gender, member_birth_year, duration in seconds and user type, start station name and start time of the ride (in day, month, year)"
   ]
  },
  {
   "cell_type": "code",
   "execution_count": 1,
   "metadata": {
    "slideshow": {
     "slide_type": "skip"
    }
   },
   "outputs": [],
   "source": [
    "# import all packages and set plots to be embedded inline\n",
    "import numpy as np\n",
    "import pandas as pd\n",
    "import matplotlib.pyplot as plt\n",
    "import seaborn as sns\n",
    "import datetime\n",
    "\n",
    "%matplotlib inline"
   ]
  },
  {
   "cell_type": "code",
   "execution_count": 2,
   "metadata": {
    "slideshow": {
     "slide_type": "skip"
    }
   },
   "outputs": [],
   "source": [
    "def limit_x(x):\n",
    "    return plt.xlim(0,x)\n",
    "def limit_y(y):\n",
    "    return plt.ylim(0,y)\n",
    "def figure_size(h):\n",
    "    return plt.figure(figsize = [h, 5])"
   ]
  },
  {
   "cell_type": "code",
   "execution_count": 3,
   "metadata": {
    "slideshow": {
     "slide_type": "skip"
    }
   },
   "outputs": [],
   "source": [
    "# loading dataset from local file\n",
    "df_clean = pd.read_csv('clean_master_file.csv')"
   ]
  },
  {
   "cell_type": "code",
   "execution_count": 5,
   "metadata": {
    "slideshow": {
     "slide_type": "skip"
    }
   },
   "outputs": [],
   "source": [
    "df_bike_clean = df_clean.copy()"
   ]
  },
  {
   "cell_type": "code",
   "execution_count": 4,
   "metadata": {
    "collapsed": true,
    "slideshow": {
     "slide_type": "skip"
    }
   },
   "outputs": [
    {
     "name": "stdout",
     "output_type": "stream",
     "text": [
      "<class 'pandas.core.frame.DataFrame'>\n",
      "RangeIndex: 2284482 entries, 0 to 2284481\n",
      "Data columns (total 18 columns):\n",
      "duration_sec               int64\n",
      "start_time                 object\n",
      "end_time                   object\n",
      "start_station_name         object\n",
      "end_station_name           object\n",
      "bike_id                    int64\n",
      "user_type                  object\n",
      "member_birth_year          int64\n",
      "member_gender              object\n",
      "bike_share_for_all_trip    object\n",
      "start_time_month           int64\n",
      "start_time_weekday         object\n",
      "start_time_day             int64\n",
      "start_time_hour            int64\n",
      "member_age                 int64\n",
      "member_age_bins            object\n",
      "year-month                 object\n",
      "weekday_or_weekend         object\n",
      "dtypes: int64(7), object(11)\n",
      "memory usage: 313.7+ MB\n"
     ]
    }
   ],
   "source": [
    "df_clean.info()"
   ]
  },
  {
   "cell_type": "markdown",
   "metadata": {
    "slideshow": {
     "slide_type": "slide"
    }
   },
   "source": [
    "### For how long people are riding the bike?"
   ]
  },
  {
   "cell_type": "code",
   "execution_count": 6,
   "metadata": {
    "slideshow": {
     "slide_type": "subslide"
    }
   },
   "outputs": [
    {
     "data": {
      "image/png": "[encoded data removed]",
      "text/plain": [
       "<Figure size 1080x360 with 2 Axes>"
      ]
     },
     "metadata": {
      "needs_background": "light"
     },
     "output_type": "display_data"
    }
   ],
   "source": [
    "figure_size(15)\n",
    "# histogram on left, example of too-large bin size\n",
    "plt.subplot(1, 2, 1) # 1 row, 2 cols, subplot 1\n",
    "bin_edges = np.arange(0, df_bike_clean['duration_sec'].max()+100, 100)\n",
    "plt.hist(data = df_bike_clean, x = 'duration_sec', bins = bin_edges)\n",
    "limit_x(3500)\n",
    "plt.xlabel(\"Duration (in sec)\")\n",
    "plt.ylabel(\"Number of Rides\")\n",
    "plt.yticks([100000, 200000, 300000], ['100k','200k', '300k'])\n",
    "plt.title(\"Number of rides distributed among duration\")\n",
    "\n",
    "# histogram on right, example of too-small bin size\n",
    "plt.subplot(1, 2, 2) # 1 row, 2 cols, subplot 2\n",
    "bin_edges = np.arange(0, df_bike_clean['duration_sec'].max()+100, 100)\n",
    "plt.hist(data = df_bike_clean, x = 'duration_sec', bins = bin_edges)\n",
    "limit_x(1500)\n",
    "plt.xlabel(\"Duration (in sec)\")\n",
    "plt.ylabel(\"Number of Rides\")\n",
    "plt.yticks([100000, 200000, 300000], ['100k','200k', '300k'])\n",
    "\n",
    "plt.title(\"Number of rides distributed among duration\");"
   ]
  },
  {
   "cell_type": "markdown",
   "metadata": {
    "slideshow": {
     "slide_type": "subslide"
    }
   },
   "source": [
    "* First histogram shows that the data is very highly skewed\n",
    "* Hence, for a better visual distribution in second histogram duration_sec max value is limited to 1500\n",
    "* Majority of the rides lie between 200 - 700 second range (4-11 minutes)"
   ]
  },
  {
   "cell_type": "markdown",
   "metadata": {
    "slideshow": {
     "slide_type": "slide"
    }
   },
   "source": [
    "### Monthly Series Analysis - Number of Rides Per Month. Has the business increased over time?"
   ]
  },
  {
   "cell_type": "code",
   "execution_count": 7,
   "metadata": {
    "slideshow": {
     "slide_type": "skip"
    }
   },
   "outputs": [],
   "source": [
    "# extract month and year from start time\n",
    "df_bike_clean['year_m'] = pd.to_datetime(df_bike_clean['start_time']).dt.to_period('M')"
   ]
  },
  {
   "cell_type": "code",
   "execution_count": 9,
   "metadata": {
    "slideshow": {
     "slide_type": "skip"
    }
   },
   "outputs": [],
   "source": [
    "# seaborn blue color\n",
    "base_color = sns.color_palette()[0]"
   ]
  },
  {
   "cell_type": "code",
   "execution_count": 10,
   "metadata": {
    "slideshow": {
     "slide_type": "subslide"
    }
   },
   "outputs": [
    {
     "data": {
      "image/png": "[encoded data removed]",
      "text/plain": [
       "<Figure size 864x432 with 1 Axes>"
      ]
     },
     "metadata": {
      "needs_background": "light"
     },
     "output_type": "display_data"
    }
   ],
   "source": [
    "sns.catplot(x=\"year_m\", kind=\"count\", data=df_bike_clean, color=base_color,height=6,aspect=2)\n",
    "plt.title(\"Number of Rides vs Hour of the day\")\n",
    "plt.xlabel('Monthly series')\n",
    "plt.ylabel('Number of Rides')\n",
    "plt.xticks(rotation = 90)\n",
    "plt.yticks([50000, 150000, 250000], ['50k','150k','250k']);"
   ]
  },
  {
   "cell_type": "markdown",
   "metadata": {
    "slideshow": {
     "slide_type": "subslide"
    }
   },
   "source": [
    "* Significant increase in the number of rides in the first 3 months of year 2019 as compared to 2018\n",
    "* Overall average of rides is greater in months from May to Oct, this might be because of pleasant weather"
   ]
  },
  {
   "cell_type": "markdown",
   "metadata": {
    "collapsed": true,
    "slideshow": {
     "slide_type": "slide"
    }
   },
   "source": [
    "### At What time of the day most bikes were rented on Weekdays vs Weekends?"
   ]
  },
  {
   "cell_type": "code",
   "execution_count": 13,
   "metadata": {
    "slideshow": {
     "slide_type": "skip"
    }
   },
   "outputs": [],
   "source": [
    "# change datatypes of time columns\n",
    "df_bike_clean.start_time = pd.to_datetime(df_bike_clean.start_time)\n",
    "df_bike_clean.end_time = pd.to_datetime(df_bike_clean.end_time)"
   ]
  },
  {
   "cell_type": "code",
   "execution_count": 14,
   "metadata": {
    "slideshow": {
     "slide_type": "skip"
    }
   },
   "outputs": [],
   "source": [
    "# add column day of the week from start time\n",
    "df_bike_clean['day_of_the_week']=df_bike_clean['start_time'].dt.strftime('%a')"
   ]
  },
  {
   "cell_type": "code",
   "execution_count": 17,
   "metadata": {
    "slideshow": {
     "slide_type": "skip"
    }
   },
   "outputs": [],
   "source": [
    "# add column ride hour from start time\n",
    "df_bike_clean['ride_hour']=df_bike_clean['start_time'].dt.hour"
   ]
  },
  {
   "cell_type": "code",
   "execution_count": 15,
   "metadata": {
    "slideshow": {
     "slide_type": "skip"
    }
   },
   "outputs": [],
   "source": [
    "# differentiate between weekday and weekend\n",
    "df_bike_clean['week_day_week_end']=df_bike_clean['day_of_the_week'].apply(lambda x: \"Weekend\" if (x =='Sat' or x =='Sun') \n",
    "                                                                          else \"Weekday\")"
   ]
  },
  {
   "cell_type": "code",
   "execution_count": 18,
   "metadata": {
    "slideshow": {
     "slide_type": "subslide"
    }
   },
   "outputs": [
    {
     "data": {
      "image/png": "[encoded data removed]",
      "text/plain": [
       "<Figure size 540x360 with 1 Axes>"
      ]
     },
     "metadata": {
      "needs_background": "light"
     },
     "output_type": "display_data"
    }
   ],
   "source": [
    "#plot counts by ride_hour on weekday and weekend\n",
    "sns.catplot(x=\"ride_hour\", kind=\"count\", data=df_bike_clean,height=5,aspect=1.5, hue = 'week_day_week_end', legend= False)\n",
    "plt.xlabel(\"Hour of Day\")\n",
    "plt.ylabel(\"Number of rides\")\n",
    "plt.title(\"Number of rides at different hours on Weekday and Weekends\", fontsize=14)\n",
    "plt.legend(title= \"Type of Day\")\n",
    "# polishing the plot\n",
    "plt.yticks([250000,50000, 150000], ['250k','50k','150k']);"
   ]
  },
  {
   "cell_type": "markdown",
   "metadata": {
    "slideshow": {
     "slide_type": "subslide"
    }
   },
   "source": [
    "* As seen in Univariate analysis, the distribution is `bimodal` but through bivariate plot it is clear that bimodal nature is only true for weekdays\n",
    "* We can add an observation here that the bimodal nature of the hours might be due to the office hours(morning and evening)\n",
    "* For weekends, it is normally distributed among hours with peak hour around 2 P.M."
   ]
  },
  {
   "cell_type": "markdown",
   "metadata": {
    "slideshow": {
     "slide_type": "slide"
    }
   },
   "source": [
    "### How does ride duration varies with user type?"
   ]
  },
  {
   "cell_type": "code",
   "execution_count": 19,
   "metadata": {
    "slideshow": {
     "slide_type": "subslide"
    }
   },
   "outputs": [
    {
     "data": {
      "image/png": "[encoded data removed]",
      "text/plain": [
       "<Figure size 432x288 with 1 Axes>"
      ]
     },
     "metadata": {
      "needs_background": "light"
     },
     "output_type": "display_data"
    }
   ],
   "source": [
    "#plot counts by ride_hour on weekday and weekend\n",
    "sns.catplot(x=\"user_type\",y = 'duration_sec', kind=\"box\", data=df_bike_clean,\n",
    "            height=4,aspect=1.5, hue = 'user_type', legend= False)\n",
    "limit_y(3000)\n",
    "plt.ylabel(\"Duration in sec with limit set at 3000\")\n",
    "plt.title(\"Distribution of user types with ride duration\", fontsize=14)\n",
    "plt.legend(title= \"Type of User\");\n",
    "# polishing the plot\n",
    "#plt.yticks([250000,50000, 150000], ['250k','50k','150k']);"
   ]
  },
  {
   "cell_type": "markdown",
   "metadata": {
    "slideshow": {
     "slide_type": "subslide"
    }
   },
   "source": [
    "* `Subsribers` generally have shorter rides than `customers` with median of duration around 500 secs\n",
    "* `Customers` have median of ride duration around 800 secs"
   ]
  },
  {
   "cell_type": "markdown",
   "metadata": {
    "slideshow": {
     "slide_type": "slide"
    }
   },
   "source": [
    "### Number of rides for which a user shared ride among different User type"
   ]
  },
  {
   "cell_type": "code",
   "execution_count": 23,
   "metadata": {
    "slideshow": {
     "slide_type": "subslide"
    }
   },
   "outputs": [
    {
     "data": {
      "image/png": "[encoded data removed]",
      "text/plain": [
       "<Figure size 839.75x360 with 2 Axes>"
      ]
     },
     "metadata": {
      "needs_background": "light"
     },
     "output_type": "display_data"
    }
   ],
   "source": [
    "day_of_the_week = ['Mon', 'Tue', 'Wed', 'Thu', 'Fri', 'Sat', 'Sun']\n",
    "g = sns.catplot(data=df_bike_clean, x='day_of_the_week', col=\"user_type\", hue='bike_share_for_all_trip',\n",
    "            kind='count',order = day_of_the_week , sharey= False, legend=True)\n",
    "limit_y(100000)\n",
    "plt.suptitle('Number of shared rides on a day by User Type', size=16, y=1.12)\n",
    "g.set_titles(\"{col_name}\")\n",
    "g._legend.set_title('Was bike ride shared?')\n",
    "g.set_axis_labels(\"Day of the week\", \"Number of Rides\");\n",
    "#plt.yticks([20000,50000, 80000], ['20k','50k','80k']);"
   ]
  },
  {
   "cell_type": "markdown",
   "metadata": {
    "slideshow": {
     "slide_type": "subslide"
    }
   },
   "source": [
    "* Customers have `never` shared a ride\n",
    "* Subscribers have a constant number of shared rides on weekdays, a little drop on weekends"
   ]
  },
  {
   "cell_type": "markdown",
   "metadata": {
    "slideshow": {
     "slide_type": "slide"
    }
   },
   "source": [
    "## Summary\n",
    "\n",
    "* Duration of majority of the rides lie between 200 - 700 seconds range (4-11 minutes)\n",
    "* Significant increase in the number of rides in the first 3 months of year 2019 as compared to 2018\n",
    "* Overall average of rides is greater in months from May to Oct, this might be because of pleasant weather\n",
    "* For weekdays, number of rides has a bimodal distribution among hours, with hours at 8 A.M. and 5 P.M.\n",
    "* For weekends, number of rides are normally distributed among hours with peak hour around 2 P.M.\n",
    "* `Subsribers` generally have shorter rides than `customers` with median of duration around 500 secs\n",
    "* `Customers` have median of ride duration around 800 secs\n",
    "* Customers have `never` shared a ride\n",
    "* Subscribers have a constant number of shared rides on weekdays, a little drop on weekends"
   ]
  }
 ],
 "metadata": {
  "celltoolbar": "Slideshow",
  "kernelspec": {
   "display_name": "Python 3",
   "language": "python",
   "name": "python3"
  },
  "language_info": {
   "codemirror_mode": {
    "name": "ipython",
    "version": 3
   },
   "file_extension": ".py",
   "mimetype": "text/x-python",
   "name": "python",
   "nbconvert_exporter": "python",
   "pygments_lexer": "ipython3",
   "version": "3.7.3"
  }
 },
 "nbformat": 4,
 "nbformat_minor": 2
}
